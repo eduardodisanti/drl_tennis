{
 "cells": [
  {
   "cell_type": "markdown",
   "metadata": {},
   "source": [
    "# TENNIS\n",
    "## Collaboration and Competition\n",
    "\n",
    "---\n",
    "\n",
    "You are welcome to use this coding environment to train your agent for the project.  Follow the instructions below to get started!\n",
    "\n",
    "### 1. Start the Environment\n",
    "\n",
    "Run the next code cell to install a few packages.  This line will take a few minutes to run!"
   ]
  },
  {
   "cell_type": "code",
   "execution_count": 1,
   "metadata": {},
   "outputs": [
    {
     "name": "stderr",
     "output_type": "stream",
     "text": [
      "INFO:unityagents:\n",
      "'Academy' started successfully!\n",
      "Unity Academy name: Academy\n",
      "        Number of Brains: 1\n",
      "        Number of External Brains : 1\n",
      "        Lesson number : 0\n",
      "        Reset Parameters :\n",
      "\t\t\n",
      "Unity brain name: TennisBrain\n",
      "        Number of Visual Observations (per agent): 0\n",
      "        Vector Observation space type: continuous\n",
      "        Vector Observation space size (per agent): 8\n",
      "        Number of stacked Vector Observation: 3\n",
      "        Vector Action space type: continuous\n",
      "        Vector Action space size (per agent): 2\n",
      "        Vector Action descriptions: , \n"
     ]
    }
   ],
   "source": [
    "from unityagents import UnityEnvironment\n",
    "import numpy as np\n",
    "\n",
    "env = UnityEnvironment(file_name=\"Tennis.app\")"
   ]
  },
  {
   "cell_type": "code",
   "execution_count": 2,
   "metadata": {},
   "outputs": [],
   "source": [
    "import sys\n",
    "sys.path.insert(0, './code/')\n",
    "from ddpgagent import Agent"
   ]
  },
  {
   "cell_type": "code",
   "execution_count": 3,
   "metadata": {},
   "outputs": [],
   "source": [
    "import matplotlib.pyplot as plt\n",
    "from IPython.display import clear_output, display"
   ]
  },
  {
   "cell_type": "code",
   "execution_count": 4,
   "metadata": {},
   "outputs": [],
   "source": [
    "import numpy as np\n",
    "import random\n",
    "import copy\n",
    "from collections import namedtuple, deque\n",
    "import torch"
   ]
  },
  {
   "cell_type": "code",
   "execution_count": 5,
   "metadata": {},
   "outputs": [],
   "source": [
    "# get the default brain\n",
    "brain_name = env.brain_names[0]\n",
    "brain = env.brains[brain_name]"
   ]
  },
  {
   "cell_type": "code",
   "execution_count": 6,
   "metadata": {},
   "outputs": [
    {
     "name": "stdout",
     "output_type": "stream",
     "text": [
      "Number of agents: 2\n",
      "Size of each action: 2\n",
      "There are 2 agents. Each observes a state with length: 24\n",
      "The state for the first agent looks like: [ 0.          0.          0.          0.          0.          0.\n",
      "  0.          0.          0.          0.          0.          0.\n",
      "  0.          0.          0.          0.         -6.65278625 -1.5\n",
      " -0.          0.          6.83172083  6.         -0.          0.        ]\n"
     ]
    }
   ],
   "source": [
    "# reset the environment\n",
    "env_info = env.reset(train_mode=True)[brain_name]\n",
    "\n",
    "# number of agents \n",
    "num_agents = len(env_info.agents)\n",
    "print('Number of agents:', num_agents)\n",
    "\n",
    "# size of each action\n",
    "action_size = brain.vector_action_space_size\n",
    "print('Size of each action:', action_size)\n",
    "\n",
    "# examine the state space \n",
    "states = env_info.vector_observations\n",
    "state_size = states.shape[1]\n",
    "print('There are {} agents. Each observes a state with length: {}'.format(states.shape[0], state_size))\n",
    "print('The state for the first agent looks like:', states[0])"
   ]
  },
  {
   "cell_type": "code",
   "execution_count": 7,
   "metadata": {},
   "outputs": [],
   "source": [
    "def show_graph(lq, avgs, mavgs, title=\"Training history\"):\n",
    "    plt.figure(figsize=(10,8))\n",
    "    plt.plot(lq, \".\", label=\"min\")\n",
    "    plt.plot(avgs, c=\"r\", label=\"max\")\n",
    "\n",
    "    plt.plot(mavgs, c=\"g\", label=\"mean\")\n",
    "        \n",
    "    plt.axhline(y=0.5, color='m', linestyle='-.')\n",
    "    plt.title(title)\n",
    "    plt.legend()\n",
    "    plt.show()"
   ]
  },
  {
   "cell_type": "code",
   "execution_count": 8,
   "metadata": {},
   "outputs": [],
   "source": [
    "agent = Agent(state_size=state_size, action_size=action_size, random_seed=1)"
   ]
  },
  {
   "cell_type": "code",
   "execution_count": 9,
   "metadata": {},
   "outputs": [],
   "source": [
    "actor_path = \"actor_chk.pt\"\n",
    "critic_path= \"critic_chk.pt\""
   ]
  },
  {
   "cell_type": "markdown",
   "metadata": {},
   "source": [
    "Environments contain **_brains_** which are responsible for deciding the actions of their associated agents. Here we check for the first brain available, and set it as the default brain we will be controlling from Python."
   ]
  },
  {
   "cell_type": "markdown",
   "metadata": {},
   "source": [
    "### 2. Examine the State and Action Spaces\n",
    "\n",
    "Run the code cell below to print some information about the environment."
   ]
  },
  {
   "cell_type": "code",
   "execution_count": 12,
   "metadata": {},
   "outputs": [],
   "source": [
    "def ddpg(n_episodes=500, max_t=1000, target_score=30.0, target_episodes=100, print_every=1, train_mode=True,\n",
    "         actor_path='actor_blue_chk.pt', critic_path='critic_chk.pt'):\n",
    "    \n",
    "    \"\"\"Deep Deterministic Policy Gradient (DDPG)\n",
    "    \n",
    "    Params\n",
    "    ======\n",
    "        n_episodes (int)      : maximum number of training episodes\n",
    "        max_t (int)           : maximum number of timesteps per episode\n",
    "        train (bool)          : Train mode true or false\n",
    "        target_score (float)  : min avg score over consecutive episodes\n",
    "        target_episodes (int) : number of consecutive episodes used to calculate the score\n",
    "        print_every (int)     : interval to display results\n",
    "        actor_path (str)      : directory to store actor's weights\n",
    "        critic_path (str)     : directory to store critic's weights\n",
    "\n",
    "    \"\"\"\n",
    "    means = []                                # list to save mean scores\n",
    "    min_s = []                                # list of lowests scores of each episode\n",
    "    max_s = []                                # list of highest scores of each episode\n",
    "    best_score = -1e10\n",
    "    scoresDQ   = deque(maxlen=target_episodes)    # mean scores of n most recent episodes (n=target_episodes)\n",
    "    mavs = []                                 # list of moving averages\n",
    "    \n",
    "    episode_ist = 1\n",
    "    while True:\n",
    "        env_info = env.reset(train_mode=train_mode)[brain_name] # reset environment\n",
    "        states = env_info.vector_observations                   # get current state for each agent      \n",
    "        agents_score = np.zeros(num_agents)                     # initialize score for each agent\n",
    "        agent.reset()\n",
    "        for t in range(max_t):\n",
    "            actions = agent.act(states, add_noise=True)         # select an action for agents\n",
    "            env_info = env.step(actions)[brain_name]            # send actions to environment\n",
    "            next_states = env_info.vector_observations          # get next states for agents\n",
    "            rewards = env_info.rewards                          # get the rewards\n",
    "            dones = env_info.local_done                         # see if episode has finished\n",
    "            \n",
    "            # save experience to replay buffer, perform learning step at defined interval\n",
    "            for state, action, reward, next_state, done in zip(states, actions, rewards, next_states, dones):\n",
    "                agent.step(state, action, reward, next_state, done, t)             \n",
    "            states = next_states\n",
    "            agents_score += rewards    \n",
    "            #if np.any(dones):                                   # breaks when any agent ends its episode\n",
    "            #    break\n",
    "\n",
    "        min_s.append(np.min(agents_score))\n",
    "        max_s.append(np.max(agents_score))\n",
    "        means.append(np.mean(agents_score))           \n",
    "        scoresDQ.append(np.mean(agents_score))\n",
    "        \n",
    "        mavs.append(np.mean(scoresDQ))\n",
    "        \n",
    "        clear_output(wait=True)\n",
    "        show_graph(min_s, max_s, mavs)\n",
    "        print(\"Episode\", episode_ist, \"score mean\", means[-1], \"average on deque\", np.average(scoresDQ))\n",
    "        print(len(scoresDQ), np.mean(agents_score), target_score, target_episodes)\n",
    "        \n",
    "        if train_mode and means[-1] > best_score:\n",
    "            torch.save(agent.actor_local.state_dict(), actor_path+\".best\")\n",
    "            torch.save(agent.critic_local.state_dict(), critic_path+\".best\")\n",
    "            best_score = means[-1]\n",
    "                  \n",
    "        if np.average(scoresDQ) >= target_score and len(scoresDQ) >= target_episodes:\n",
    "            print(\"Environment SOLVED in \" + str(episode_ist) + \"episodes\")\n",
    "            print(\"Moving Average = \" + str(mavs[-1]) + \" over last \" + str(target_episodes) + \" episodes\")\n",
    "                  \n",
    "            if train_mode:\n",
    "                torch.save(agent.actor_local.state_dict(), actor_path)\n",
    "                torch.save(agent.critic_local.state_dict(), critic_path)  \n",
    "            break\n",
    "        episode_ist+=1    \n",
    "    return means, mavs"
   ]
  },
  {
   "cell_type": "code",
   "execution_count": 13,
   "metadata": {},
   "outputs": [
    {
     "data": {
      "image/png": "[encoded data removed]",
      "text/plain": [
       "<Figure size 720x576 with 1 Axes>"
      ]
     },
     "metadata": {
      "needs_background": "light"
     },
     "output_type": "display_data"
    },
    {
     "name": "stdout",
     "output_type": "stream",
     "text": [
      "Episode 100 score mean 2.3750000363215804 average on deque 1.9352000317443163\n",
      "100 2.3750000363215804 0.5 100\n",
      "Environment SOLVED in 100episodes\n",
      "Moving Average = 1.9352000317443163 over last 100 episodes\n"
     ]
    }
   ],
   "source": [
    "scores, avgs = ddpg(actor_path=actor_path, critic_path=critic_path, max_t=1000, target_episodes=100, target_score=0.5)"
   ]
  },
  {
   "cell_type": "code",
   "execution_count": null,
   "metadata": {},
   "outputs": [],
   "source": [
    "env.close()"
   ]
  },
  {
   "cell_type": "code",
   "execution_count": null,
   "metadata": {},
   "outputs": [],
   "source": []
  }
 ],
 "metadata": {
  "kernelspec": {
   "display_name": "drlnd",
   "language": "python",
   "name": "drlnd"
  },
  "language_info": {
   "codemirror_mode": {
    "name": "ipython",
    "version": 3
   },
   "file_extension": ".py",
   "mimetype": "text/x-python",
   "name": "python",
   "nbconvert_exporter": "python",
   "pygments_lexer": "ipython3",
   "version": "3.6.8"
  }
 },
 "nbformat": 4,
 "nbformat_minor": 2
}
